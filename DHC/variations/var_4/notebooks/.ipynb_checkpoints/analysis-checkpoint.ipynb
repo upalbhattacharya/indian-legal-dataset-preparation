{
 "cells": [
  {
   "cell_type": "code",
   "execution_count": 1,
   "id": "bfa220fa-435a-4b9e-942e-6110eb8af4b0",
   "metadata": {},
   "outputs": [],
   "source": [
    "import json\n",
    "import os\n",
    "from collections import defaultdict, Counter\n",
    "import matplotlib.pyplot as plt\n",
    "from itertools import combinations, chain\n",
    "from scipy.stats import pearsonr\n",
    "import numpy as np\n",
    "import pandas as pd"
   ]
  },
  {
   "cell_type": "code",
   "execution_count": 2,
   "id": "92b5d3a5-ef7f-4738-9785-8d77f7df4db6",
   "metadata": {},
   "outputs": [],
   "source": [
    "case_advs_path = \"/home/workboots/Datasets/DHC/variations/new/var_4/targets/dropped/case_advs.json\"\n",
    "case_areas_path = \"/home/workboots/Datasets/DHC/variations/new/var_4/targets/with_areas/balanced_label_targets.json\"\n",
    "area_num_path = \"/home/workboots/Datasets/DHC/variations/new/var_4/area_act_chapter_section_info/dropped/train/area_case_num.json\"\n",
    "area_num_overall_path = \"/home/workboots/Datasets/DHC/variations/new/var_4/area_act_chapter_section_info/dropped/overall/area_case_num.json\"\n",
    "selected_advs_path = \"/home/workboots/Datasets/DHC/variations/new/var_4/targets/dropped/selected_advs.txt\""
   ]
  },
  {
   "cell_type": "code",
   "execution_count": 3,
   "id": "095fefaf-fe1d-4d4a-bbba-bb44429fff85",
   "metadata": {},
   "outputs": [],
   "source": [
    "with open(case_advs_path, 'r') as f:\n",
    "    case_advs = json.load(f)"
   ]
  },
  {
   "cell_type": "code",
   "execution_count": 4,
   "id": "2b0ed836-a718-45d3-9800-ceff57ee940c",
   "metadata": {},
   "outputs": [],
   "source": [
    "with open(case_areas_path, 'r') as f:\n",
    "    case_areas = json.load(f)"
   ]
  },
  {
   "cell_type": "code",
   "execution_count": 5,
   "id": "4df67521-d142-4c02-a806-cdbc2141402c",
   "metadata": {},
   "outputs": [],
   "source": [
    "with open(area_num_path, 'r') as f:\n",
    "    area_num = json.load(f)"
   ]
  },
  {
   "cell_type": "code",
   "execution_count": 6,
   "id": "31b61bf1-ea5e-42e6-b251-4650fedf4de5",
   "metadata": {},
   "outputs": [],
   "source": [
    "with open(selected_advs_path, 'r') as f:\n",
    "    selected_advs = f.readlines()\n",
    "selected_advs = list(filter(None, map(lambda x: x.strip(\"\\n\"), selected_advs)))"
   ]
  },
  {
   "cell_type": "code",
   "execution_count": 25,
   "id": "a02f6ffc-5106-4117-a1e2-b0aebc84b25d",
   "metadata": {},
   "outputs": [],
   "source": [
    "adv_info_overall_path = \"/home/workboots/Datasets/DHC/variations/new/var_4/adv_info/dropped/overall/adv_area_act_chapter_section_info.json\"\n",
    "adv_info_train_path = \"/home/workboots/Datasets/DHC/variations/new/var_4/adv_info/dropped/train/adv_area_act_chapter_section_info.json\"\n",
    "adv_info_test_path = \"/home/workboots/Datasets/DHC/variations/new/var_4/adv_info/dropped/test/adv_area_act_chapter_section_info.json\"\n",
    "adv_info_validation_path = \"/home/workboots/Datasets/DHC/variations/new/var_4/adv_info/dropped/validation/adv_area_act_chapter_section_info.json\"\n",
    "adv_case_num_path = \"/home/workboots/Datasets/DHC/variations/new/var_4/adv_info/dropped/train/adv_case_num.json\"\n",
    "adv_case_num_overall_path = \"/home/workboots/Datasets/DHC/variations/new/var_4/adv_info/dropped/overall/adv_case_num.json\""
   ]
  },
  {
   "cell_type": "code",
   "execution_count": 83,
   "id": "5b4393d5-8df6-4985-ba49-cab2f949f747",
   "metadata": {},
   "outputs": [],
   "source": [
    "with open(adv_case_num_path, 'r') as f:\n",
    "    adv_case_num = json.load(f)"
   ]
  },
  {
   "cell_type": "code",
   "execution_count": 6,
   "id": "9c29b9b0-3037-4fa7-8aea-86a013a23654",
   "metadata": {},
   "outputs": [],
   "source": [
    "with open(adv_info_overall_path, 'r') as f:\n",
    "    adv_info_overall = json.load(f)"
   ]
  },
  {
   "cell_type": "code",
   "execution_count": 4,
   "id": "e94866a7-9ce6-450d-9b5f-30c9e677921f",
   "metadata": {},
   "outputs": [
    {
     "data": {
      "text/plain": [
       "306"
      ]
     },
     "execution_count": 4,
     "metadata": {},
     "output_type": "execute_result"
    }
   ],
   "source": [
    "len(adv_info_overall.keys())"
   ]
  },
  {
   "cell_type": "code",
   "execution_count": 7,
   "id": "8eae984b-8d5f-494d-bc83-a06e843baeee",
   "metadata": {},
   "outputs": [],
   "source": [
    "with open(adv_info_train_path, 'r') as f:\n",
    "    adv_info_train = json.load(f)"
   ]
  },
  {
   "cell_type": "code",
   "execution_count": 192,
   "id": "60d4af2c-2745-489a-bacb-39fa0663cf08",
   "metadata": {},
   "outputs": [],
   "source": [
    "with open(adv_info_test_path, 'r') as f:\n",
    "    adv_info_test = json.load(f)"
   ]
  },
  {
   "cell_type": "code",
   "execution_count": 198,
   "id": "f90b6f99-c03c-4c3a-82d4-2f0428b3eddc",
   "metadata": {},
   "outputs": [],
   "source": [
    "with open(adv_info_validation_path, 'r') as f:\n",
    "    adv_info_validation = json.load(f)"
   ]
  },
  {
   "cell_type": "code",
   "execution_count": 8,
   "id": "a722c232-0da7-4992-ad86-244f3e76b52c",
   "metadata": {},
   "outputs": [
    {
     "data": {
      "text/plain": [
       "306"
      ]
     },
     "execution_count": 8,
     "metadata": {},
     "output_type": "execute_result"
    }
   ],
   "source": [
    "len(adv_info_train.keys())"
   ]
  },
  {
   "cell_type": "code",
   "execution_count": 13,
   "id": "e36a3dba-0ed9-44d0-8aa3-a38769199288",
   "metadata": {},
   "outputs": [],
   "source": [
    "adv_pairs = list(combinations(adv_info_overall.keys(), 2))"
   ]
  },
  {
   "cell_type": "code",
   "execution_count": 14,
   "id": "1ecf9452-56ad-45d8-b1c6-3d6717d16c69",
   "metadata": {},
   "outputs": [
    {
     "data": {
      "text/plain": [
       "46665"
      ]
     },
     "execution_count": 14,
     "metadata": {},
     "output_type": "execute_result"
    }
   ],
   "source": [
    "len(adv_pairs)"
   ]
  },
  {
   "cell_type": "markdown",
   "id": "700a1562-bd89-4f9a-96c3-f1b450dfb59b",
   "metadata": {},
   "source": [
    "Looking at average Jaccard similarity between advocate areas"
   ]
  },
  {
   "cell_type": "code",
   "execution_count": 15,
   "id": "4d7f062e-3b53-464a-b742-3b5e5eadec94",
   "metadata": {},
   "outputs": [],
   "source": [
    "adv_pair_sim = {}"
   ]
  },
  {
   "cell_type": "code",
   "execution_count": 20,
   "id": "9ebadd55-744c-47c3-acca-1f0db1b35d94",
   "metadata": {},
   "outputs": [],
   "source": [
    "for adv_1, adv_2 in adv_pairs:\n",
    "    adv_pair_sim[frozenset({adv_1, adv_2})] = len(set(adv_info_overall[adv_1][\"areas\"]).intersection(set(adv_info_overall[adv_2][\"areas\"]))) * 1./(\n",
    "                                                 len(set(adv_info_overall[adv_1][\"areas\"]).union(set(adv_info_overall[adv_2][\"areas\"]))))"
   ]
  },
  {
   "cell_type": "code",
   "execution_count": 22,
   "id": "92b72bbd-7fe8-4932-89c9-07bc2c378d00",
   "metadata": {
    "tags": []
   },
   "outputs": [],
   "source": [
    "avg_sim = sum(adv_pair_sim.values()) * 1./len(adv_pair_sim.keys())"
   ]
  },
  {
   "cell_type": "code",
   "execution_count": 23,
   "id": "1eb5a0e1-66c1-41c5-8e0c-f2b84a9f1f96",
   "metadata": {},
   "outputs": [
    {
     "data": {
      "text/plain": [
       "0.4327461142252859"
      ]
     },
     "execution_count": 23,
     "metadata": {},
     "output_type": "execute_result"
    }
   ],
   "source": [
    "avg_sim"
   ]
  },
  {
   "cell_type": "markdown",
   "id": "43ed4cb1-c176-464a-aa93-e0585a168295",
   "metadata": {},
   "source": [
    "On the total dataset, the average area similarity between any two pairs of advocates is 0.4327."
   ]
  },
  {
   "cell_type": "code",
   "execution_count": 24,
   "id": "b25d4d9d-271a-4360-9dc0-4c3a9266feb0",
   "metadata": {},
   "outputs": [],
   "source": [
    "adv_pair_sim_train = {}\n",
    "for adv_1, adv_2 in adv_pairs:\n",
    "    adv_pair_sim_train[frozenset({adv_1, adv_2})] = len(set(adv_info_train[adv_1][\"areas\"]).intersection(set(adv_info_train[adv_2][\"areas\"]))) * 1./(\n",
    "                                                 len(set(adv_info_train[adv_1][\"areas\"]).union(set(adv_info_train[adv_2][\"areas\"]))))\n",
    "avg_sim_train = sum(adv_pair_sim_train.values()) * 1./len(adv_pair_sim_train.keys())"
   ]
  },
  {
   "cell_type": "code",
   "execution_count": 25,
   "id": "f94089c7-346e-45ec-882a-95176fde0957",
   "metadata": {},
   "outputs": [
    {
     "data": {
      "text/plain": [
       "0.3931878438678954"
      ]
     },
     "execution_count": 25,
     "metadata": {},
     "output_type": "execute_result"
    }
   ],
   "source": [
    "avg_sim_train"
   ]
  },
  {
   "cell_type": "code",
   "execution_count": 194,
   "id": "f5c50ec4-abde-493d-be99-3c61d6049631",
   "metadata": {},
   "outputs": [],
   "source": [
    "adv_pair_sim_test = {}\n",
    "for adv_1, adv_2 in adv_pairs:\n",
    "    num = len(set(adv_info_test[adv_1][\"areas\"]).intersection(set(adv_info_test[adv_2][\"areas\"])))\n",
    "    den = len(set(adv_info_test[adv_1][\"areas\"]).union(set(adv_info_test[adv_2][\"areas\"])))\n",
    "    adv_pair_sim_test[frozenset({adv_1, adv_2})] =  num * 1./den if den != 0.0 else 0 \n",
    "avg_sim_test = sum(adv_pair_sim_test.values()) * 1./len(adv_pair_sim_test.keys())"
   ]
  },
  {
   "cell_type": "code",
   "execution_count": 195,
   "id": "25442b78-d68b-4cf4-8e8b-627330d2f112",
   "metadata": {},
   "outputs": [
    {
     "data": {
      "text/plain": [
       "0.2849383929277775"
      ]
     },
     "execution_count": 195,
     "metadata": {},
     "output_type": "execute_result"
    }
   ],
   "source": [
    "avg_sim_test"
   ]
  },
  {
   "cell_type": "code",
   "execution_count": 199,
   "id": "39896e2e-4894-43dd-a9c2-93480257fa1d",
   "metadata": {},
   "outputs": [],
   "source": [
    "adv_pair_sim_validation = {}\n",
    "for adv_1, adv_2 in adv_pairs:\n",
    "    num = len(set(adv_info_validation[adv_1][\"areas\"]).intersection(set(adv_info_validation[adv_2][\"areas\"])))\n",
    "    den = len(set(adv_info_validation[adv_1][\"areas\"]).union(set(adv_info_validation[adv_2][\"areas\"])))\n",
    "    adv_pair_sim_validation[frozenset({adv_1, adv_2})] =  num * 1./den if den != 0.0 else 0 \n",
    "avg_sim_validation = sum(adv_pair_sim_validation.values()) * 1./len(adv_pair_sim_validation.keys())"
   ]
  },
  {
   "cell_type": "code",
   "execution_count": 200,
   "id": "166cd331-6220-46ce-8aa7-5bf52d6e7f9c",
   "metadata": {},
   "outputs": [
    {
     "data": {
      "text/plain": [
       "0.21318997040713597"
      ]
     },
     "execution_count": 200,
     "metadata": {},
     "output_type": "execute_result"
    }
   ],
   "source": [
    "avg_sim_validation"
   ]
  },
  {
   "cell_type": "markdown",
   "id": "81f69237-da2e-4f8e-a2e0-e030935b898f",
   "metadata": {},
   "source": [
    "On the training data, the average similarity in areas between any two advocates is 0.3932."
   ]
  },
  {
   "cell_type": "markdown",
   "id": "3a196083-c67c-4b52-aba6-306653a80e23",
   "metadata": {},
   "source": [
    "Area Imbalance Ratio on whole dataset"
   ]
  },
  {
   "cell_type": "code",
   "execution_count": 36,
   "id": "317db82c-f7af-4a43-971b-20c78268fa5f",
   "metadata": {},
   "outputs": [],
   "source": [
    "with open(area_num_overall_path, 'r') as f:\n",
    "    area_num_overall = json.load(f)"
   ]
  },
  {
   "cell_type": "code",
   "execution_count": 37,
   "id": "2ff3866c-d8a9-47db-ac4e-3c5e579e0b6b",
   "metadata": {},
   "outputs": [],
   "source": [
    "max_area_num = max(area_num_overall.values())"
   ]
  },
  {
   "cell_type": "code",
   "execution_count": 38,
   "id": "52c9d334-2982-4412-ae47-06ff60149974",
   "metadata": {
    "tags": []
   },
   "outputs": [
    {
     "data": {
      "text/plain": [
       "5750"
      ]
     },
     "execution_count": 38,
     "metadata": {},
     "output_type": "execute_result"
    }
   ],
   "source": [
    "max_area_num"
   ]
  },
  {
   "cell_type": "code",
   "execution_count": 39,
   "id": "57296571-1a3d-41ee-9436-a8d3a1873f2c",
   "metadata": {
    "tags": []
   },
   "outputs": [],
   "source": [
    "min_area_num = min(area_num_overall.values())"
   ]
  },
  {
   "cell_type": "code",
   "execution_count": 40,
   "id": "d8fa93c9-9114-4a85-9333-bea2815120a8",
   "metadata": {},
   "outputs": [
    {
     "data": {
      "text/plain": [
       "15"
      ]
     },
     "execution_count": 40,
     "metadata": {},
     "output_type": "execute_result"
    }
   ],
   "source": [
    "min_area_num"
   ]
  },
  {
   "cell_type": "code",
   "execution_count": 41,
   "id": "d418b62e-4fc1-4f8c-9fb1-2317643bf3d7",
   "metadata": {},
   "outputs": [],
   "source": [
    "irlbl = [1./v * max_area_num for v in area_num_overall.values()]"
   ]
  },
  {
   "cell_type": "code",
   "execution_count": 42,
   "id": "bef29901-22ac-4651-a64c-c8d49ab9558d",
   "metadata": {},
   "outputs": [],
   "source": [
    "meanir = sum(irlbl) * 1./len(irlbl)"
   ]
  },
  {
   "cell_type": "code",
   "execution_count": 43,
   "id": "563b585e-fe7c-40ca-b8a4-41a8703da022",
   "metadata": {},
   "outputs": [
    {
     "data": {
      "text/plain": [
       "99.91410897003684"
      ]
     },
     "execution_count": 43,
     "metadata": {},
     "output_type": "execute_result"
    }
   ],
   "source": [
    "meanir"
   ]
  },
  {
   "cell_type": "code",
   "execution_count": 44,
   "id": "15a9131e-e3eb-48de-9834-ab075798db24",
   "metadata": {},
   "outputs": [
    {
     "data": {
      "text/plain": [
       "383.3333333333333"
      ]
     },
     "execution_count": 44,
     "metadata": {},
     "output_type": "execute_result"
    }
   ],
   "source": [
    "max(irlbl)"
   ]
  },
  {
   "cell_type": "markdown",
   "id": "af92b998-e32a-488a-8c89-06fbd5370e2e",
   "metadata": {},
   "source": [
    "Advocate Imbalance Ratio on whole dataset"
   ]
  },
  {
   "cell_type": "code",
   "execution_count": 26,
   "id": "deb402ce-195c-4521-af13-30d308b3d869",
   "metadata": {},
   "outputs": [],
   "source": [
    "with open(adv_case_num_overall_path, 'r') as f:\n",
    "    adv_case_num_overall = json.load(f)"
   ]
  },
  {
   "cell_type": "code",
   "execution_count": 27,
   "id": "5e18e234-c1d9-4adf-bf6b-11368f5bd4a9",
   "metadata": {},
   "outputs": [],
   "source": [
    "max_adv_num = max(adv_case_num_overall.values())"
   ]
  },
  {
   "cell_type": "code",
   "execution_count": 29,
   "id": "8d609c06-1672-43dc-b2ea-12e17d0a7307",
   "metadata": {},
   "outputs": [
    {
     "data": {
      "text/plain": [
       "453"
      ]
     },
     "execution_count": 29,
     "metadata": {},
     "output_type": "execute_result"
    }
   ],
   "source": [
    "max_adv_num"
   ]
  },
  {
   "cell_type": "code",
   "execution_count": 30,
   "id": "1141382b-ac82-4e5d-b967-090a94e887b0",
   "metadata": {},
   "outputs": [],
   "source": [
    "min_adv_num = min(adv_case_num_overall.values())"
   ]
  },
  {
   "cell_type": "code",
   "execution_count": 31,
   "id": "1ce4fe6d-d6b0-4dd1-9bd4-10288f3c78ad",
   "metadata": {},
   "outputs": [
    {
     "data": {
      "text/plain": [
       "34"
      ]
     },
     "execution_count": 31,
     "metadata": {},
     "output_type": "execute_result"
    }
   ],
   "source": [
    "min_adv_num"
   ]
  },
  {
   "cell_type": "code",
   "execution_count": 32,
   "id": "91fd884b-6a73-4d5d-bb2f-c2df8b0e433f",
   "metadata": {},
   "outputs": [],
   "source": [
    "irlbl = [1./v * max_adv_num for v in adv_case_num_overall.values()]"
   ]
  },
  {
   "cell_type": "code",
   "execution_count": 33,
   "id": "3f906882-026b-40af-a33f-49b73512e171",
   "metadata": {},
   "outputs": [],
   "source": [
    "meanir = sum(irlbl) * 1./len(irlbl)"
   ]
  },
  {
   "cell_type": "code",
   "execution_count": 34,
   "id": "acf05a1d-dd93-4f79-9f12-df44d716a69b",
   "metadata": {},
   "outputs": [
    {
     "data": {
      "text/plain": [
       "6.089453622264585"
      ]
     },
     "execution_count": 34,
     "metadata": {},
     "output_type": "execute_result"
    }
   ],
   "source": [
    "meanir"
   ]
  },
  {
   "cell_type": "code",
   "execution_count": 35,
   "id": "fc694b81-924e-44e5-9058-9f0422abedf1",
   "metadata": {},
   "outputs": [
    {
     "data": {
      "text/plain": [
       "13.323529411764707"
      ]
     },
     "execution_count": 35,
     "metadata": {},
     "output_type": "execute_result"
    }
   ],
   "source": [
    "max(irlbl)"
   ]
  },
  {
   "cell_type": "markdown",
   "id": "e90282e8-bdde-4c90-859d-404653c77842",
   "metadata": {},
   "source": [
    "## Analysing prediction results"
   ]
  },
  {
   "cell_type": "markdown",
   "id": "435ff070-92b6-4eb3-9224-fdae30d5518d",
   "metadata": {},
   "source": [
    "### Frequency-based"
   ]
  },
  {
   "cell_type": "code",
   "execution_count": 967,
   "id": "7a215950-b735-497b-a13d-c000d565b97b",
   "metadata": {},
   "outputs": [],
   "source": [
    "with open(\"/home/workboots/Results/advocate_recommendation/exp_9/adv_pred_area_sim/vanilla/preds.json\", 'r') as f:\n",
    "    preds = json.load(f)"
   ]
  },
  {
   "cell_type": "code",
   "execution_count": 968,
   "id": "b73be28b-e523-4ed6-8c6f-98122119224a",
   "metadata": {},
   "outputs": [],
   "source": [
    "with open(\"/home/workboots/Results/advocate_recommendation/exp_9/adv_pred_area_sim/vanilla/test_f1.json\", 'r') as f:\n",
    "    metrics = json.load(f)"
   ]
  },
  {
   "cell_type": "code",
   "execution_count": 969,
   "id": "9b9ba6a8-c2ec-4a61-82d3-b9cec02687e7",
   "metadata": {},
   "outputs": [],
   "source": [
    "num_predicted = [len(v) for v in preds.values() if v != []]"
   ]
  },
  {
   "cell_type": "code",
   "execution_count": 970,
   "id": "ff7c8a34-aa00-4f54-a2f9-6edb24e41a9f",
   "metadata": {},
   "outputs": [
    {
     "data": {
      "text/plain": [
       "1.4925068119891007"
      ]
     },
     "execution_count": 970,
     "metadata": {},
     "output_type": "execute_result"
    }
   ],
   "source": [
    "sum(num_predicted) * 1./len(num_predicted)"
   ]
  },
  {
   "cell_type": "code",
   "execution_count": 971,
   "id": "a23dc02d-fa8e-4861-a320-10b6aa8d3c0e",
   "metadata": {},
   "outputs": [],
   "source": [
    "no_prediction = len([val for val in preds.values() if val == []])"
   ]
  },
  {
   "cell_type": "code",
   "execution_count": 972,
   "id": "2927a9a9-3950-4301-a409-662218c41b8d",
   "metadata": {},
   "outputs": [
    {
     "data": {
      "text/plain": [
       "1846"
      ]
     },
     "execution_count": 972,
     "metadata": {},
     "output_type": "execute_result"
    }
   ],
   "source": [
    "no_prediction"
   ]
  },
  {
   "cell_type": "code",
   "execution_count": 973,
   "id": "c6f9f0be-1218-4626-9507-bb82f0228539",
   "metadata": {},
   "outputs": [],
   "source": [
    "no_prediction_cases = [k for k, v in preds.items() if v == []]\n",
    "prediction_cases = [k for k, v in preds.items() if v != []]"
   ]
  },
  {
   "cell_type": "code",
   "execution_count": 974,
   "id": "d9d7a780-ae6f-48a7-b7d8-548536b093a3",
   "metadata": {},
   "outputs": [],
   "source": [
    "predicted_advs = list(chain.from_iterable(preds.values()))"
   ]
  },
  {
   "cell_type": "code",
   "execution_count": 975,
   "id": "3a610792-d9d6-4597-82f6-bb2d825a0d9f",
   "metadata": {},
   "outputs": [],
   "source": [
    "predicted_advs = set(predicted_advs)"
   ]
  },
  {
   "cell_type": "code",
   "execution_count": 976,
   "id": "a0593e8c-bf28-4193-9bed-817eef97d7d7",
   "metadata": {},
   "outputs": [
    {
     "data": {
      "text/plain": [
       "275"
      ]
     },
     "execution_count": 976,
     "metadata": {},
     "output_type": "execute_result"
    }
   ],
   "source": [
    "len(predicted_advs)"
   ]
  },
  {
   "cell_type": "code",
   "execution_count": 977,
   "id": "fdc6959d-35d4-461b-8167-ac2c16e9d7c3",
   "metadata": {},
   "outputs": [],
   "source": [
    "not_predicted_advs = set(adv_case_num.keys()) - predicted_advs"
   ]
  },
  {
   "cell_type": "code",
   "execution_count": 978,
   "id": "99dacb03-3950-43ef-83f2-1bbdbddccde8",
   "metadata": {},
   "outputs": [],
   "source": [
    "not_predicted_advs_case_num = {}"
   ]
  },
  {
   "cell_type": "code",
   "execution_count": 979,
   "id": "ee0cd084-1fbf-43cc-8788-e7bd873403ca",
   "metadata": {},
   "outputs": [],
   "source": [
    "for adv in not_predict:\n",
    "    not_predicted_advs_case_num[adv] = adv_case_num[adv]"
   ]
  },
  {
   "cell_type": "code",
   "execution_count": 980,
   "id": "832fc0b6-14e1-4877-b31b-3fd27a41bbbf",
   "metadata": {},
   "outputs": [],
   "source": [
    "not_predicted_advs_case_num = {k: v for k, v in sorted(not_predicted_advs_case_num.items(), key=lambda x: x[1], reverse=True)}"
   ]
  },
  {
   "cell_type": "code",
   "execution_count": 981,
   "id": "d55b7c9a-36b2-42c4-a5c3-dda29cafb11f",
   "metadata": {},
   "outputs": [],
   "source": [
    "predicted_advs_case_num = {}\n",
    "for adv in predicted_advs:\n",
    "    predicted_advs_case_num[adv] = adv_case_num[adv]"
   ]
  },
  {
   "cell_type": "code",
   "execution_count": 982,
   "id": "0630d595-e1a1-4a84-be0f-989602a5d802",
   "metadata": {},
   "outputs": [],
   "source": [
    "predicted_advs_case_num = {k: v for k, v in sorted(predicted_advs_case_num.items(), key=lambda x: x[1], reverse=True)}"
   ]
  },
  {
   "cell_type": "markdown",
   "id": "d0f1c7b0-5556-47a3-be1d-1a492423de01",
   "metadata": {},
   "source": [
    "The advocates not predicted show a low number of cases. However, advocates with a lower number of cases are predicted by the model as well."
   ]
  },
  {
   "cell_type": "code",
   "execution_count": 983,
   "id": "b604eb94-998e-4024-a121-c7371beb6b5c",
   "metadata": {},
   "outputs": [],
   "source": [
    "advs_predicted_num = Counter(list(chain.from_iterable(preds.values())))"
   ]
  },
  {
   "cell_type": "code",
   "execution_count": 984,
   "id": "1d0a48f9-a2c2-46cc-abb6-19bb5b2e05ff",
   "metadata": {},
   "outputs": [],
   "source": [
    "advs_predicted_num = {k: v for k, v in sorted(dict(advs_predicted_num).items(), key=lambda x: predicted_advs_case_num[x[0]], reverse=True)}"
   ]
  },
  {
   "cell_type": "code",
   "execution_count": 985,
   "id": "1b23bcb5-c948-47a3-91d5-8e7a32587841",
   "metadata": {},
   "outputs": [],
   "source": [
    "corr, _ = pearsonr(np.array(list(predicted_advs_case_num.values())), np.array(list(advs_predicted_num.values())))"
   ]
  },
  {
   "cell_type": "code",
   "execution_count": 986,
   "id": "15e3ff17-082e-41f9-b728-99515eae88cc",
   "metadata": {},
   "outputs": [
    {
     "data": {
      "text/plain": [
       "0.7743401962609312"
      ]
     },
     "execution_count": 986,
     "metadata": {},
     "output_type": "execute_result"
    }
   ],
   "source": [
    "corr"
   ]
  },
  {
   "cell_type": "markdown",
   "id": "0994decf-5aae-4a43-a300-5b421615b87e",
   "metadata": {},
   "source": [
    "The model shows very high correlation between the number of training cases and the number of times an advocate is predicted"
   ]
  },
  {
   "cell_type": "code",
   "execution_count": 987,
   "id": "193cd966-542a-47bd-9146-76641f048822",
   "metadata": {},
   "outputs": [],
   "source": [
    "all_advs_predicted_num = {adv: advs_predicted_num.get(adv, 0) for adv in selected_advs}\n",
    "all_advs_predicted_num = {k: v for k, v in sorted(all_advs_predicted_num.items(), key=lambda x: x[1], reverse=True)}"
   ]
  },
  {
   "cell_type": "code",
   "execution_count": 988,
   "id": "63b92ecf-5174-4de8-b3d9-b483afaf212f",
   "metadata": {},
   "outputs": [],
   "source": [
    "adv_f1 = metrics[\"prec_rec_f1_sup\"][\"class_f1\"]\n",
    "adv_f1 = {k: v for k, v in sorted(adv_f1.items(), key=lambda x: all_advs_predicted_num[x[0]], reverse=True)}"
   ]
  },
  {
   "cell_type": "code",
   "execution_count": 989,
   "id": "dc8a1ce6-b44e-4710-8b5c-c1258bbf08db",
   "metadata": {},
   "outputs": [],
   "source": [
    "corr, _ = pearsonr(np.array(list(all_advs_predicted_num.values())), np.array(list(adv_f1.values())))"
   ]
  },
  {
   "cell_type": "code",
   "execution_count": 990,
   "id": "ac7a3bdd-d7bd-4507-a0ad-f7b7b45b4b44",
   "metadata": {},
   "outputs": [
    {
     "data": {
      "text/plain": [
       "0.3816515685324142"
      ]
     },
     "execution_count": 990,
     "metadata": {},
     "output_type": "execute_result"
    }
   ],
   "source": [
    "corr"
   ]
  },
  {
   "cell_type": "markdown",
   "id": "369d24d5-e3d8-4610-b901-96b04432c18b",
   "metadata": {},
   "source": [
    "Checking how many of the cases with no predictions have only advocates that were not predicted"
   ]
  },
  {
   "cell_type": "code",
   "execution_count": 991,
   "id": "d390afc8-4c17-4517-8142-f572bfd92dcb",
   "metadata": {},
   "outputs": [],
   "source": [
    "no_prediction_low_freq_adv_cases = []"
   ]
  },
  {
   "cell_type": "code",
   "execution_count": 992,
   "id": "206ed1fa-35ad-4576-a0d3-b942788cf499",
   "metadata": {},
   "outputs": [],
   "source": [
    "for case in no_prediction_cases:\n",
    "    advs = set(case_advs[case]).intersection(set(selected_advs))\n",
    "    common_advs = set(advs).intersection(not_predicted_advs)\n",
    "    no_prediction_low_freq_adv_cases.append((len(advs), len(common_advs), len(common_advs) * 1./len(advs)))"
   ]
  },
  {
   "cell_type": "markdown",
   "id": "82ac76f4-d6d5-4a34-83ae-2c6cf9dabe03",
   "metadata": {},
   "source": [
    "The cases for which no advocates were predicted usually had a high number of targets"
   ]
  },
  {
   "cell_type": "code",
   "execution_count": 993,
   "id": "97f040ab-af79-481e-b3db-4bbd17d0e9aa",
   "metadata": {},
   "outputs": [],
   "source": [
    "avg_num_targets_no_prediction_cases = [v[0] for v in no_prediction_low_freq_adv_cases]\n",
    "avg_num_targets_no_prediction_cases = sum(avg_num_targets_no_prediction_cases) * 1./len(avg_num_targets_no_prediction_cases)"
   ]
  },
  {
   "cell_type": "code",
   "execution_count": 994,
   "id": "ffdacf44-aac3-4068-a466-8a5f0000dcad",
   "metadata": {},
   "outputs": [
    {
     "data": {
      "text/plain": [
       "1.8223185265438786"
      ]
     },
     "execution_count": 994,
     "metadata": {},
     "output_type": "execute_result"
    }
   ],
   "source": [
    "avg_num_targets_no_prediction_cases"
   ]
  },
  {
   "cell_type": "code",
   "execution_count": 995,
   "id": "1a5c274a-af97-49a9-8fb2-a8d9591e165c",
   "metadata": {},
   "outputs": [],
   "source": [
    "prediction_advs_num = []\n",
    "for case in prediction_cases:\n",
    "    advs = set(case_advs[case]).intersection(set(selected_advs))\n",
    "    prediction_advs_num.append(len(advs))"
   ]
  },
  {
   "cell_type": "code",
   "execution_count": 996,
   "id": "a6e884b5-f47f-4af6-8865-4738f6a619a1",
   "metadata": {},
   "outputs": [],
   "source": [
    "avg_num_targets_prediction_cases = [v for v in prediction_advs_num]\n",
    "avg_num_targets_prediction_cases = sum(avg_num_targets_prediction_cases) * 1./len(avg_num_targets_prediction_cases)"
   ]
  },
  {
   "cell_type": "code",
   "execution_count": 998,
   "id": "7bc17c6b-0f97-4f34-a0fa-eb8ad3bd789d",
   "metadata": {},
   "outputs": [
    {
     "data": {
      "text/plain": [
       "2.018392370572207"
      ]
     },
     "execution_count": 998,
     "metadata": {},
     "output_type": "execute_result"
    }
   ],
   "source": [
    "avg_num_targets_prediction_cases"
   ]
  },
  {
   "cell_type": "markdown",
   "id": "ce9bf43f-995a-4330-948e-bbe9396e02f1",
   "metadata": {},
   "source": [
    "The average number of advocates for cases with predicted advocates is 2.0."
   ]
  },
  {
   "cell_type": "code",
   "execution_count": 999,
   "id": "bc3914aa-e1c1-4278-8658-1d599fc1cb81",
   "metadata": {},
   "outputs": [],
   "source": [
    "avg_num_targets_no_prediction_cases_low_adv = [v[0] for v in no_prediction_low_freq_adv_cases if v[1] != 0]\n",
    "avg_num_targets_no_prediction_cases_low_adv = sum(avg_num_targets_no_prediction_cases_low_adv) * 1./len(avg_num_targets_no_prediction_cases_low_adv)"
   ]
  },
  {
   "cell_type": "code",
   "execution_count": 1000,
   "id": "584fcc61-ca78-4557-9ace-9dd631f085d7",
   "metadata": {},
   "outputs": [
    {
     "data": {
      "text/plain": [
       "2.8009708737864076"
      ]
     },
     "execution_count": 1000,
     "metadata": {},
     "output_type": "execute_result"
    }
   ],
   "source": [
    "avg_num_targets_no_prediction_cases_low_adv"
   ]
  },
  {
   "cell_type": "markdown",
   "id": "37885328-9cf9-4b0b-9df8-3d9127353a86",
   "metadata": {},
   "source": [
    "For the cases in the test set with advocates from the set of advocates not predicted, the average number of advocates found was 5.0"
   ]
  },
  {
   "cell_type": "markdown",
   "id": "e2468b9e-8bde-457b-b438-4e13a110f859",
   "metadata": {},
   "source": [
    "Co-occurence of no prediction advocates with high frequency advocates"
   ]
  },
  {
   "cell_type": "code",
   "execution_count": 1001,
   "id": "f98b8a0d-1c3a-4a15-9277-eea8bcf30b95",
   "metadata": {},
   "outputs": [],
   "source": [
    "high_freq = 200\n",
    "low_freq = 60"
   ]
  },
  {
   "cell_type": "code",
   "execution_count": 1002,
   "id": "8d1e4d76-8c3f-4af5-85ef-6af7acd7ac7b",
   "metadata": {},
   "outputs": [],
   "source": [
    "no_prediction_adv_cooccur_high_freq = defaultdict(int)\n",
    "for case in case_advs:\n",
    "    advs = set(case_advs[case]).intersection(set(selected_advs))\n",
    "    common = set(advs).intersection(set(not_predicted_advs))\n",
    "    if len(common) == 0:\n",
    "        continue\n",
    "    high_freq_advs = [adv for adv in advs if adv_case_num[adv] >= high_freq]\n",
    "    if high_freq_advs != []:\n",
    "        for adv_no_pred in common:\n",
    "            no_prediction_adv_cooccur_high_freq[adv_no_pred] += 1"
   ]
  },
  {
   "cell_type": "code",
   "execution_count": 1026,
   "id": "58e355b4-cec8-427f-84c5-e57ced6e5b04",
   "metadata": {},
   "outputs": [
    {
     "data": {
      "text/plain": [
       "9.548387096774194"
      ]
     },
     "execution_count": 1026,
     "metadata": {},
     "output_type": "execute_result"
    }
   ],
   "source": [
    "sum(no_prediction_adv_cooccur_high_freq.values()) * 1./len(no_prediction_adv_cooccur_high_freq.keys())"
   ]
  },
  {
   "cell_type": "code",
   "execution_count": 1027,
   "id": "3eab9ae4-6c63-4909-840c-c2e6ac48b5ce",
   "metadata": {},
   "outputs": [
    {
     "data": {
      "text/plain": [
       "31"
      ]
     },
     "execution_count": 1027,
     "metadata": {},
     "output_type": "execute_result"
    }
   ],
   "source": [
    "len(no_prediction_adv_cooccur_high_freq)"
   ]
  },
  {
   "cell_type": "markdown",
   "id": "86d3ea0e-fa65-49e7-aa6a-c89a9824ff06",
   "metadata": {},
   "source": [
    "Of the 30 advocates that were not predicted, 29 advocates occurred with advocates with much higher cases"
   ]
  },
  {
   "cell_type": "code",
   "execution_count": 1028,
   "id": "546690c8-1310-4617-9e9c-0dae377df743",
   "metadata": {},
   "outputs": [],
   "source": [
    "low_freq_advs = [adv for adv, num in adv_case_num.items() if num < low_freq and adv not in not_predicted_advs]\n",
    "low_freq_adv_cooccur_high_freq = defaultdict(int)\n",
    "for case in case_advs:\n",
    "    advs = set(case_advs[case]).intersection(set(selected_advs))\n",
    "    common = set(advs).intersection(set(low_freq_advs))\n",
    "    if len(common) == 0:\n",
    "        continue\n",
    "    high_freq_advs = [adv for adv in advs if adv_case_num[adv] >= high_freq]\n",
    "    if high_freq_advs != []:\n",
    "        for adv_no_pred in common:\n",
    "            low_freq_adv_cooccur_high_freq[adv_no_pred] += 1"
   ]
  },
  {
   "cell_type": "markdown",
   "id": "1039bc30-4bf5-4262-a7c2-94c07ce45ef4",
   "metadata": {},
   "source": [
    "The advocates with a low number of cases but which were predicted do not show a significant difference in number of cases with advocates with high number of cases"
   ]
  },
  {
   "cell_type": "code",
   "execution_count": 1029,
   "id": "fcba7d27-7d2f-4039-866a-f5bfcde1be4a",
   "metadata": {},
   "outputs": [
    {
     "data": {
      "text/plain": [
       "9.10738255033557"
      ]
     },
     "execution_count": 1029,
     "metadata": {},
     "output_type": "execute_result"
    }
   ],
   "source": [
    "sum(low_freq_adv_cooccur_high_freq.values()) * 1./len(low_freq_adv_cooccur_high_freq.keys())"
   ]
  },
  {
   "cell_type": "code",
   "execution_count": null,
   "id": "9f6de251-b53b-4b62-b96b-ef52300e91f1",
   "metadata": {},
   "outputs": [],
   "source": []
  },
  {
   "cell_type": "markdown",
   "id": "f7d7e19a-7cbd-44d6-bed5-db8c29cc10fe",
   "metadata": {
    "tags": []
   },
   "source": [
    "### Area-Based"
   ]
  },
  {
   "cell_type": "markdown",
   "id": "3b790fb8-511f-4254-a404-19e3b9991092",
   "metadata": {},
   "source": [
    "Average area argeement of non-target predictions with areas of cases"
   ]
  },
  {
   "cell_type": "code",
   "execution_count": 1030,
   "id": "bff03c18-5947-42af-9bae-af78cc07e0ce",
   "metadata": {},
   "outputs": [],
   "source": [
    "target_preds = {k: list((set(case_advs[k]).intersection(set(selected_advs))).intersection(set(v))) for k, v in preds.items() if v!= []}"
   ]
  },
  {
   "cell_type": "code",
   "execution_count": 1031,
   "id": "469424ae-c9ec-4c77-b433-ff9b74e22835",
   "metadata": {},
   "outputs": [],
   "source": [
    "non_target_preds = {k: list(set(v) - set(target_preds[k])) for k, v in preds.items() if v != []} "
   ]
  },
  {
   "cell_type": "code",
   "execution_count": 1032,
   "id": "dc28283a-997b-4193-869b-497cf437a3db",
   "metadata": {},
   "outputs": [],
   "source": [
    "non_target_advs = set(chain.from_iterable(non_target_preds.values()))"
   ]
  },
  {
   "cell_type": "code",
   "execution_count": 1033,
   "id": "5b9df312-a095-4afa-a558-954f583316e1",
   "metadata": {},
   "outputs": [],
   "source": [
    "non_target_advs_case_num = [adv_case_num[adv] for adv in non_target_advs]"
   ]
  },
  {
   "cell_type": "code",
   "execution_count": 1034,
   "id": "8f8b9b8a-f926-41c7-9f44-30dd0397f8e2",
   "metadata": {},
   "outputs": [
    {
     "data": {
      "text/plain": [
       "1468"
      ]
     },
     "execution_count": 1034,
     "metadata": {},
     "output_type": "execute_result"
    }
   ],
   "source": [
    "len(non_target_preds)"
   ]
  },
  {
   "cell_type": "code",
   "execution_count": 1035,
   "id": "6ac6a7df-af75-461b-8a58-8e010fab5446",
   "metadata": {},
   "outputs": [],
   "source": [
    "non_target_preds_case_area_similarity = defaultdict(list)\n",
    "for case, advs in non_target_preds.items():\n",
    "    for adv in advs:\n",
    "        adv_area = adv_info_train[adv][\"areas\"]\n",
    "        case_area = case_areas.get(case, [])\n",
    "        jaccard = len(set(adv_area).intersection(set(case_area))) * 1./len(case_area) if len(case_area) != 0 else 0\n",
    "        non_target_preds_case_area_similarity[case].append(jaccard)"
   ]
  },
  {
   "cell_type": "code",
   "execution_count": 1036,
   "id": "a5141f35-ba2a-47ad-8f66-4db216a0e0f8",
   "metadata": {},
   "outputs": [],
   "source": [
    "vals = list(chain.from_iterable(non_target_preds_case_area_similarity.values()))"
   ]
  },
  {
   "cell_type": "code",
   "execution_count": 1037,
   "id": "0b019d09-20a6-4f2d-8755-a975ca57c857",
   "metadata": {},
   "outputs": [],
   "source": [
    "avg_non_target_preds_case_area_similarity = sum(vals) * 1./len(vals)"
   ]
  },
  {
   "cell_type": "code",
   "execution_count": 1038,
   "id": "4d2e184c-ac3a-429e-96fe-8687665e1b55",
   "metadata": {},
   "outputs": [
    {
     "data": {
      "text/plain": [
       "0.6593908629441623"
      ]
     },
     "execution_count": 1038,
     "metadata": {},
     "output_type": "execute_result"
    }
   ],
   "source": [
    "avg_non_target_preds_case_area_similarity"
   ]
  },
  {
   "cell_type": "code",
   "execution_count": 1039,
   "id": "d2c7b473-1099-4414-81aa-723575f5598e",
   "metadata": {},
   "outputs": [],
   "source": [
    "target_preds_case_area_similarity = defaultdict(list)\n",
    "for case, advs in target_preds.items():\n",
    "    for adv in advs:\n",
    "        adv_area = adv_info_train[adv][\"areas\"]\n",
    "        case_area = case_areas.get(case, [])\n",
    "        jaccard = len(set(adv_area).intersection(set(case_area))) * 1./len(case_area) if len(case_area) !=0 else 0\n",
    "        target_preds_case_area_similarity[case].append(jaccard)"
   ]
  },
  {
   "cell_type": "code",
   "execution_count": 1040,
   "id": "40a01b03-c171-416f-a610-2e1d1168f017",
   "metadata": {},
   "outputs": [],
   "source": [
    "vals = list(chain.from_iterable(target_preds_case_area_similarity.values()))"
   ]
  },
  {
   "cell_type": "code",
   "execution_count": 1041,
   "id": "bab4c757-7a61-4fe0-af6c-d66c09859047",
   "metadata": {},
   "outputs": [],
   "source": [
    "avg_target_preds_case_area_similarity = sum(vals) * 1./len(vals)"
   ]
  },
  {
   "cell_type": "code",
   "execution_count": 1042,
   "id": "96bf1fa8-9937-4fa6-966b-127c063bf333",
   "metadata": {},
   "outputs": [
    {
     "data": {
      "text/plain": [
       "0.6720238095238096"
      ]
     },
     "execution_count": 1042,
     "metadata": {},
     "output_type": "execute_result"
    }
   ],
   "source": [
    "avg_target_preds_case_area_similarity"
   ]
  },
  {
   "cell_type": "code",
   "execution_count": 1043,
   "id": "1626fd0a-190a-4ab4-8fb1-a8c8d6dd8e2b",
   "metadata": {},
   "outputs": [
    {
     "data": {
      "text/plain": [
       "812"
      ]
     },
     "execution_count": 1043,
     "metadata": {},
     "output_type": "execute_result"
    }
   ],
   "source": [
    "len(vals)"
   ]
  },
  {
   "cell_type": "markdown",
   "id": "4f04adcf-d7dd-4471-8de6-3f07c4838db2",
   "metadata": {},
   "source": [
    "Average area agreement between target_predictions and non-target predictions"
   ]
  },
  {
   "cell_type": "code",
   "execution_count": 1044,
   "id": "348148ad-1028-49bf-b7c6-64c53170c1fd",
   "metadata": {},
   "outputs": [],
   "source": [
    "target_preds_non_target_preds_area_similarity = defaultdict(list)\n",
    "for case, advs in target_preds.items():\n",
    "    non_target_advs = non_target_preds[case]\n",
    "    for adv in advs:\n",
    "        for non_pred_adv in non_target_advs:\n",
    "            jaccard = len(set(adv_info_train[adv][\"areas\"]).intersection(set(adv_info_train[non_pred_adv][\"areas\"]))) * 1./len(set(adv_info_train[adv][\"areas\"]).union(set(adv_info_train[non_pred_adv][\"areas\"])))\n",
    "            target_preds_non_target_preds_area_similarity[case].append(jaccard)"
   ]
  },
  {
   "cell_type": "code",
   "execution_count": 1045,
   "id": "83968d3c-134b-4cbf-8e05-8723c202f38c",
   "metadata": {},
   "outputs": [],
   "source": [
    "vals = list(chain.from_iterable(target_preds_non_target_preds_area_similarity.values()))"
   ]
  },
  {
   "cell_type": "code",
   "execution_count": 1046,
   "id": "22719f96-f87e-422e-a706-4a0556188410",
   "metadata": {},
   "outputs": [],
   "source": [
    "avg_target_preds_non_target_preds_area_similarity = sum(vals) * 1./len(vals)"
   ]
  },
  {
   "cell_type": "code",
   "execution_count": 1047,
   "id": "f2884f4c-d847-4b7d-b5cf-231c36d3a5a4",
   "metadata": {},
   "outputs": [
    {
     "data": {
      "text/plain": [
       "0.4882718380446266"
      ]
     },
     "execution_count": 1047,
     "metadata": {},
     "output_type": "execute_result"
    }
   ],
   "source": [
    "avg_target_preds_non_target_preds_area_similarity"
   ]
  },
  {
   "cell_type": "markdown",
   "id": "b933043c-5a5e-499b-8f9c-0913906792ef",
   "metadata": {},
   "source": [
    "Areas of no prediction advocates"
   ]
  },
  {
   "cell_type": "code",
   "execution_count": 1048,
   "id": "01b59e2d-feb4-4556-b821-8fe43d77809b",
   "metadata": {},
   "outputs": [],
   "source": [
    "not_predicted_advs_area_num = defaultdict(list)\n",
    "for adv in not_predicted_advs:\n",
    "    for area in adv_info_train[adv][\"areas\"]:\n",
    "        not_predicted_advs_area_num[adv].append(area_num[area])"
   ]
  },
  {
   "cell_type": "code",
   "execution_count": 1049,
   "id": "9906d115-ee04-4976-b556-ac5a89edf902",
   "metadata": {},
   "outputs": [],
   "source": [
    "vals = list(chain.from_iterable(not_predicted_advs_area_num.values()))"
   ]
  },
  {
   "cell_type": "code",
   "execution_count": 1050,
   "id": "5d2e5571-6964-44a9-b388-a34396ad6990",
   "metadata": {},
   "outputs": [],
   "source": [
    "avg_not_predicted_advs_area_num = sum(vals) * 1./len(vals)"
   ]
  },
  {
   "cell_type": "code",
   "execution_count": 1051,
   "id": "7ad0c306-0ad0-45b9-8a9c-b4790eee5a94",
   "metadata": {},
   "outputs": [
    {
     "data": {
      "text/plain": [
       "861.3461538461538"
      ]
     },
     "execution_count": 1051,
     "metadata": {},
     "output_type": "execute_result"
    }
   ],
   "source": [
    "avg_not_predicted_advs_area_num"
   ]
  },
  {
   "cell_type": "code",
   "execution_count": 1052,
   "id": "57732b5b-1183-4f0b-b07f-fb745360aff5",
   "metadata": {},
   "outputs": [],
   "source": [
    "vals = [len(v) for v in not_predicted_advs_area_num.values()]"
   ]
  },
  {
   "cell_type": "code",
   "execution_count": 1053,
   "id": "da1758ea-e25d-4761-9d4e-6d60c3ef5a6a",
   "metadata": {},
   "outputs": [
    {
     "data": {
      "text/plain": [
       "11.741935483870968"
      ]
     },
     "execution_count": 1053,
     "metadata": {},
     "output_type": "execute_result"
    }
   ],
   "source": [
    "sum(vals) * 1./len(vals)"
   ]
  },
  {
   "cell_type": "markdown",
   "id": "c4294cd3-d311-4549-8cee-7e7e5249ec15",
   "metadata": {},
   "source": [
    "Areas of predicted advocates"
   ]
  },
  {
   "cell_type": "code",
   "execution_count": 1054,
   "id": "f2b36578-4161-42a5-8544-264abaef417a",
   "metadata": {},
   "outputs": [],
   "source": [
    "predicted_advs_area_num = defaultdict(list)\n",
    "for adv in predicted_advs:\n",
    "    for area in adv_info_train[adv][\"areas\"]:\n",
    "        predicted_advs_area_num[adv].append(area_num[area])"
   ]
  },
  {
   "cell_type": "code",
   "execution_count": 1055,
   "id": "0e869886-d6e9-4c3d-a67b-447c8b1db606",
   "metadata": {},
   "outputs": [],
   "source": [
    "vals = list(chain.from_iterable(predicted_advs_area_num.values()))"
   ]
  },
  {
   "cell_type": "code",
   "execution_count": 1056,
   "id": "243dc43f-acd9-435a-b09c-d85cb85d548b",
   "metadata": {},
   "outputs": [],
   "source": [
    "avg_predicted_advs_area_num = sum(vals) * 1./len(vals)"
   ]
  },
  {
   "cell_type": "code",
   "execution_count": 1057,
   "id": "1e3cd5b4-d01f-47f2-9fba-76017ab6310a",
   "metadata": {},
   "outputs": [
    {
     "data": {
      "text/plain": [
       "762.875197889182"
      ]
     },
     "execution_count": 1057,
     "metadata": {},
     "output_type": "execute_result"
    }
   ],
   "source": [
    "avg_predicted_advs_area_num"
   ]
  },
  {
   "cell_type": "code",
   "execution_count": 1058,
   "id": "5a3f7b0d-c739-4671-bee8-8e9ff148e8b9",
   "metadata": {},
   "outputs": [],
   "source": [
    "vals = [len(v) for v in predicted_advs_area_num.values()]"
   ]
  },
  {
   "cell_type": "code",
   "execution_count": 1059,
   "id": "4dc52b6a-7b86-46ea-b92d-1116028a77f1",
   "metadata": {},
   "outputs": [
    {
     "data": {
      "text/plain": [
       "13.781818181818181"
      ]
     },
     "execution_count": 1059,
     "metadata": {},
     "output_type": "execute_result"
    }
   ],
   "source": [
    "sum(vals) * 1./len(vals)"
   ]
  },
  {
   "cell_type": "code",
   "execution_count": 1060,
   "id": "7b0de8dc-1fa3-4793-983d-53265cec8cd5",
   "metadata": {},
   "outputs": [],
   "source": [
    "predicted_low_freq_advs_area_num = defaultdict(list)\n",
    "for adv in predicted_advs:\n",
    "    if adv_case_num[adv] >= low_freq:\n",
    "        continue\n",
    "    for area in adv_info_train[adv][\"areas\"]:\n",
    "        predicted_low_freq_advs_area_num[adv].append(area_num[area])"
   ]
  },
  {
   "cell_type": "code",
   "execution_count": 1061,
   "id": "9044d4c5-da3a-435f-a04d-3dd5bb61aa1e",
   "metadata": {},
   "outputs": [],
   "source": [
    "\n",
    "vals = list(chain.from_iterable(predicted_low_freq_advs_area_num.values()))"
   ]
  },
  {
   "cell_type": "code",
   "execution_count": 1062,
   "id": "691a1ccd-76e9-46f2-8061-aefaa6faf2ec",
   "metadata": {},
   "outputs": [],
   "source": [
    "avg_predicted_low_freq_advs_area_num = sum(vals) * 1./len(vals)"
   ]
  },
  {
   "cell_type": "code",
   "execution_count": 1063,
   "id": "15212d8b-98af-4c13-b874-2ba279e62bc0",
   "metadata": {},
   "outputs": [
    {
     "data": {
      "text/plain": [
       "855.9807268722467"
      ]
     },
     "execution_count": 1063,
     "metadata": {},
     "output_type": "execute_result"
    }
   ],
   "source": [
    "avg_predicted_low_freq_advs_area_num"
   ]
  },
  {
   "cell_type": "code",
   "execution_count": 1064,
   "id": "8f57dd07-3254-450e-ad16-3a4b18113f68",
   "metadata": {},
   "outputs": [],
   "source": [
    "vals = [len(v) for v in predicted_low_freq_advs_area_num.values()]"
   ]
  },
  {
   "cell_type": "code",
   "execution_count": 1065,
   "id": "fa05fbeb-4f71-4e5c-a489-c7c0efe022e1",
   "metadata": {},
   "outputs": [
    {
     "data": {
      "text/plain": [
       "11.716129032258065"
      ]
     },
     "execution_count": 1065,
     "metadata": {},
     "output_type": "execute_result"
    }
   ],
   "source": [
    "sum(vals) * 1./len(vals)"
   ]
  },
  {
   "cell_type": "code",
   "execution_count": 13,
   "id": "96eb43f4-692f-4865-bbc5-bb4f8f2fec60",
   "metadata": {},
   "outputs": [],
   "source": []
  },
  {
   "cell_type": "code",
   "execution_count": 15,
   "id": "cf6b1d7d-08af-4537-879a-7d69cc928a4b",
   "metadata": {},
   "outputs": [],
   "source": []
  },
  {
   "cell_type": "code",
   "execution_count": 16,
   "id": "1847caf1-7142-4f85-adef-bf853ecfe102",
   "metadata": {},
   "outputs": [
    {
     "data": {
      "text/plain": [
       "99.91410897003684"
      ]
     },
     "execution_count": 16,
     "metadata": {},
     "output_type": "execute_result"
    }
   ],
   "source": []
  },
  {
   "cell_type": "code",
   "execution_count": null,
   "id": "6e81eff7-d2bb-43cb-8c1f-d64411954d88",
   "metadata": {},
   "outputs": [],
   "source": []
  }
 ],
 "metadata": {
  "kernelspec": {
   "display_name": "Python 3 (ipykernel)",
   "language": "python",
   "name": "python3"
  },
  "language_info": {
   "codemirror_mode": {
    "name": "ipython",
    "version": 3
   },
   "file_extension": ".py",
   "mimetype": "text/x-python",
   "name": "python",
   "nbconvert_exporter": "python",
   "pygments_lexer": "ipython3",
   "version": "3.10.6"
  }
 },
 "nbformat": 4,
 "nbformat_minor": 5
}
