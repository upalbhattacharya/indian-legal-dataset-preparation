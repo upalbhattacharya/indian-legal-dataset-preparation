{
 "cells": [
  {
   "cell_type": "code",
   "execution_count": 4,
   "id": "7f3827b0-9a63-4d1c-9124-05981fc3fa08",
   "metadata": {},
   "outputs": [],
   "source": [
    "from bs4 import BeautifulSoup as bs\n",
    "import requests"
   ]
  },
  {
   "cell_type": "code",
   "execution_count": null,
   "id": "cf47c6b7-7eb4-4eca-abd5-beb23e6739b4",
   "metadata": {},
   "outputs": [],
   "source": [
    "offset = 0\n",
    "response = 200\n",
    "base_path = \"https://www.indiacode.nic.in\"\n",
    "for i in range(2):\n",
    "    crawl_url = f\"https://www.indiacode.nic.in/handle/123456789/1362/browse?type=shorttitle&sort_by=3&order=ASC&rpp=20&etal=-1&null=&offset={offset}\"\n",
    "    pull = requests.get(crawl_url)\n",
    "    soup = bs(pull.content)\n",
    "    for l in soup.find_all(\"tr\")[1:]:\n",
    "        link = l.find('a', href=True)\n",
    "        act_path = base_path + link[\"href\"]\n",
    "        p = requests.get(act_path)\n",
    "        s = bs(p.content)\n",
    "        for meta in s.find_all('meta'):\n",
    "            print(type(meta))"
   ]
  },
  {
   "cell_type": "code",
   "execution_count": null,
   "id": "b5db6432-db59-4320-ae14-d3a96fa4d81b",
   "metadata": {},
   "outputs": [],
   "source": []
  }
 ],
 "metadata": {
  "kernelspec": {
   "display_name": "Python 3 (ipykernel)",
   "language": "python",
   "name": "python3"
  },
  "language_info": {
   "codemirror_mode": {
    "name": "ipython",
    "version": 3
   },
   "file_extension": ".py",
   "mimetype": "text/x-python",
   "name": "python",
   "nbconvert_exporter": "python",
   "pygments_lexer": "ipython3",
   "version": "3.10.4"
  }
 },
 "nbformat": 4,
 "nbformat_minor": 5
}
