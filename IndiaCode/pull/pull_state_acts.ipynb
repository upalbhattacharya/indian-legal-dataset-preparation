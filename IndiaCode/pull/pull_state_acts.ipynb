{
 "cells": [
  {
   "cell_type": "markdown",
   "id": "f324996c-8a0c-4904-b9e4-c7e768f33e7b",
   "metadata": {},
   "source": [
    "# Getting per-state Data"
   ]
  },
  {
   "cell_type": "markdown",
   "id": "77bdaa2a-49ef-46cf-8d52-6d0666f23d00",
   "metadata": {},
   "source": [
    "The homepage of IndiaCode contains URLs for all states. Using the homepage HTML, one can retrieve the information of acts from each state"
   ]
  },
  {
   "cell_type": "code",
   "execution_count": 39,
   "id": "7f3827b0-9a63-4d1c-9124-05981fc3fa08",
   "metadata": {},
   "outputs": [],
   "source": [
    "from bs4 import BeautifulSoup as bs\n",
    "import requests\n",
    "from joblib import Parallel, delayed"
   ]
  },
  {
   "cell_type": "code",
   "execution_count": 36,
   "id": "82c60c01-4464-4462-bb7f-8cd3e85bd0fa",
   "metadata": {},
   "outputs": [],
   "source": [
    "indiacode_home_url = \"https://www.indiacode.nic.in/\"\n",
    "base_url = \"https://www.indiacode.nic.in\"\n",
    "shorttitle_url = \"browse?type=shorttitle\"\n",
    "per_page_url = \"&sort_by=3&order=ASC&rpp=20&etal=-1&null=&offset=\""
   ]
  },
  {
   "cell_type": "code",
   "execution_count": 5,
   "id": "98e889e4-00d8-422f-9aab-3633a1932b34",
   "metadata": {},
   "outputs": [],
   "source": [
    "pull = requests.get(indiacode_home_url)"
   ]
  },
  {
   "cell_type": "code",
   "execution_count": 6,
   "id": "8cdedf30-16b4-469d-8970-e67d763f41d4",
   "metadata": {},
   "outputs": [],
   "source": [
    "soup = bs(pull.content)"
   ]
  },
  {
   "cell_type": "code",
   "execution_count": 16,
   "id": "3df7f8ec-a0f8-4451-82bc-ec60338cd9b4",
   "metadata": {},
   "outputs": [],
   "source": [
    "dropdowns = soup.find_all(\"li\")"
   ]
  },
  {
   "cell_type": "markdown",
   "id": "7bbc045e-b620-4fd9-88f0-7aec1d6994b1",
   "metadata": {},
   "source": [
    "One particular dropdown list contains the links to all State Act pages. We search for that."
   ]
  },
  {
   "cell_type": "code",
   "execution_count": 25,
   "id": "ec3921fb-6fb8-42e3-bbb1-40ede2d00a72",
   "metadata": {},
   "outputs": [],
   "source": [
    "for d in dropdowns:\n",
    "    if \"State Acts\" in d.text:\n",
    "        state_acts = d\n",
    "        break"
   ]
  },
  {
   "cell_type": "code",
   "execution_count": 27,
   "id": "f9caa8f3-7ec9-4df3-8731-a70a5ff6345e",
   "metadata": {},
   "outputs": [],
   "source": [
    "states = state_acts.find_all(\"li\")"
   ]
  },
  {
   "cell_type": "markdown",
   "id": "58f11353-5130-4bc2-a7a7-17d394dc474b",
   "metadata": {},
   "source": [
    "The `<a>` element contains the base URL and its text gives the name of the state"
   ]
  },
  {
   "cell_type": "markdown",
   "id": "391e6c86-d824-4f92-b538-05b6315d1347",
   "metadata": {},
   "source": [
    "We prepend the base URL and append the URL for the short title list. The short title webpages provide the URL information for each Act."
   ]
  },
  {
   "cell_type": "code",
   "execution_count": 37,
   "id": "4f013cdf-fa2f-4266-9ab4-6546620466aa",
   "metadata": {},
   "outputs": [],
   "source": [
    "state_urls = {}\n",
    "for s in states:\n",
    "    state_urls[s.a.text] = base_url + s.a[\"href\"] + shorttitle_url"
   ]
  },
  {
   "cell_type": "code",
   "execution_count": 38,
   "id": "5d959907-de85-4208-a261-3c12538a5d91",
   "metadata": {
    "collapsed": true,
    "jupyter": {
     "outputs_hidden": true
    },
    "tags": []
   },
   "outputs": [
    {
     "data": {
      "text/plain": [
       "{'Andaman and Nicobar Islands': 'https://www.indiacode.nic.in/handle/123456789/2454/browse?type=shorttitle',\n",
       " 'Andhra Pradesh': 'https://www.indiacode.nic.in/handle/123456789/2486/browse?type=shorttitle',\n",
       " 'Arunachal Pradesh': 'https://www.indiacode.nic.in/handle/123456789/2487/browse?type=shorttitle',\n",
       " 'Assam': 'https://www.indiacode.nic.in/handle/123456789/2513/browse?type=shorttitle',\n",
       " 'Bihar': 'https://www.indiacode.nic.in/handle/123456789/2488/browse?type=shorttitle',\n",
       " 'Chandigarh': 'https://www.indiacode.nic.in/handle/123456789/2489/browse?type=shorttitle',\n",
       " 'Chhattisgarh': 'https://www.indiacode.nic.in/handle/123456789/2490/browse?type=shorttitle',\n",
       " 'Dadra and Nagar Haveli and Daman and Diu': 'https://www.indiacode.nic.in/handle/123456789/2492/browse?type=shorttitle',\n",
       " 'Delhi': 'https://www.indiacode.nic.in/handle/123456789/2493/browse?type=shorttitle',\n",
       " 'Goa': 'https://www.indiacode.nic.in/handle/123456789/2514/browse?type=shorttitle',\n",
       " 'Gujarat': 'https://www.indiacode.nic.in/handle/123456789/2455/browse?type=shorttitle',\n",
       " 'Haryana': 'https://www.indiacode.nic.in/handle/123456789/2193/browse?type=shorttitle',\n",
       " 'Himachal Pradesh': 'https://www.indiacode.nic.in/handle/123456789/2494/browse?type=shorttitle',\n",
       " 'Jammu and Kashmir': 'https://www.indiacode.nic.in/handle/123456789/2495/browse?type=shorttitle',\n",
       " 'Jharkhand': 'https://www.indiacode.nic.in/handle/123456789/2515/browse?type=shorttitle',\n",
       " 'Karnataka': 'https://www.indiacode.nic.in/handle/123456789/2485/browse?type=shorttitle',\n",
       " 'Kerala': 'https://www.indiacode.nic.in/handle/123456789/2516/browse?type=shorttitle',\n",
       " 'Ladakh': 'https://www.indiacode.nic.in/handle/123456789/14011/browse?type=shorttitle',\n",
       " 'Lakshadweep': 'https://www.indiacode.nic.in/handle/123456789/2496/browse?type=shorttitle',\n",
       " 'Madhya Pradesh': 'https://www.indiacode.nic.in/handle/123456789/2497/browse?type=shorttitle',\n",
       " 'Maharashtra': 'https://www.indiacode.nic.in/handle/123456789/2517/browse?type=shorttitle',\n",
       " 'Manipur': 'https://www.indiacode.nic.in/handle/123456789/2498/browse?type=shorttitle',\n",
       " 'Meghalaya': 'https://www.indiacode.nic.in/handle/123456789/2499/browse?type=shorttitle',\n",
       " 'Mizoram': 'https://www.indiacode.nic.in/handle/123456789/2500/browse?type=shorttitle',\n",
       " 'Nagaland': 'https://www.indiacode.nic.in/handle/123456789/2501/browse?type=shorttitle',\n",
       " 'Odisha': 'https://www.indiacode.nic.in/handle/123456789/2502/browse?type=shorttitle',\n",
       " 'Puducherry': 'https://www.indiacode.nic.in/handle/123456789/2503/browse?type=shorttitle',\n",
       " 'Punjab': 'https://www.indiacode.nic.in/handle/123456789/2504/browse?type=shorttitle',\n",
       " 'Rajasthan': 'https://www.indiacode.nic.in/handle/123456789/2505/browse?type=shorttitle',\n",
       " 'Sikkim': 'https://www.indiacode.nic.in/handle/123456789/2506/browse?type=shorttitle',\n",
       " 'Tamil Nadu': 'https://www.indiacode.nic.in/handle/123456789/2507/browse?type=shorttitle',\n",
       " 'Telangana': 'https://www.indiacode.nic.in/handle/123456789/2508/browse?type=shorttitle',\n",
       " 'Tripura': 'https://www.indiacode.nic.in/handle/123456789/2509/browse?type=shorttitle',\n",
       " 'Uttarakhand\\t': 'https://www.indiacode.nic.in/handle/123456789/2511/browse?type=shorttitle',\n",
       " 'Uttar Pradesh ': 'https://www.indiacode.nic.in/handle/123456789/2510/browse?type=shorttitle',\n",
       " 'West Bengal': 'https://www.indiacode.nic.in/handle/123456789/2512/browse?type=shorttitle'}"
      ]
     },
     "execution_count": 38,
     "metadata": {},
     "output_type": "execute_result"
    }
   ],
   "source": [
    "state_urls"
   ]
  },
  {
   "cell_type": "markdown",
   "id": "b672b8f5-d25c-4e41-9fe9-33f29359da22",
   "metadata": {},
   "source": [
    "Pulling and saving the webpage information"
   ]
  },
  {
   "cell_type": "code",
   "execution_count": null,
   "id": "8719a91c-f8e9-4d22-a838-e1427b9d39bb",
   "metadata": {},
   "outputs": [],
   "source": []
  },
  {
   "cell_type": "code",
   "execution_count": null,
   "id": "cf47c6b7-7eb4-4eca-abd5-beb23e6739b4",
   "metadata": {},
   "outputs": [],
   "source": [
    "offset = 0\n",
    "response = 200\n",
    "base_path = \"https://www.indiacode.nic.in\"\n",
    "for i in range(2):\n",
    "    crawl_url = f\"https://www.indiacode.nic.in/handle/123456789/1362/browse?type=shorttitle&sort_by=3&order=ASC&rpp=20&etal=-1&null=&offset={offset}\"\n",
    "    pull = requests.get(crawl_url)\n",
    "    soup = bs(pull.content)\n",
    "    for l in soup.find_all(\"tr\")[1:]:\n",
    "        link = l.find('a', href=True)\n",
    "        act_path = base_path + link[\"href\"]\n",
    "        p = requests.get(act_path)\n",
    "        s = bs(p.content)\n",
    "        for meta in s.find_all('meta'):\n",
    "            print(type(meta))"
   ]
  },
  {
   "cell_type": "code",
   "execution_count": null,
   "id": "b5db6432-db59-4320-ae14-d3a96fa4d81b",
   "metadata": {},
   "outputs": [],
   "source": []
  }
 ],
 "metadata": {
  "kernelspec": {
   "display_name": "Python 3 (ipykernel)",
   "language": "python",
   "name": "python3"
  },
  "language_info": {
   "codemirror_mode": {
    "name": "ipython",
    "version": 3
   },
   "file_extension": ".py",
   "mimetype": "text/x-python",
   "name": "python",
   "nbconvert_exporter": "python",
   "pygments_lexer": "ipython3",
   "version": "3.10.4"
  }
 },
 "nbformat": 4,
 "nbformat_minor": 5
}
