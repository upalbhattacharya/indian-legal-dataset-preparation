{
 "cells": [
  {
   "cell_type": "markdown",
   "id": "adf114e5-f016-4365-ba75-bcb092e3214e",
   "metadata": {},
   "source": [
    "# Experimenting with scikit-multilearn"
   ]
  },
  {
   "cell_type": "code",
   "execution_count": 1,
   "id": "73d3009f-968a-4c09-acc3-7dc0690ef9d5",
   "metadata": {},
   "outputs": [],
   "source": [
    "from skmultilearn.model_selection import iterative_train_test_split\n",
    "from sklearn.preprocessing import MultiLabelBinarizer\n",
    "from itertools import chain\n",
    "import json"
   ]
  },
  {
   "cell_type": "code",
   "execution_count": 2,
   "id": "93cc16ae-8103-4157-95c9-3979c5868e0a",
   "metadata": {},
   "outputs": [],
   "source": [
    "datapoints_path = \"/home/workboots/Datasets/DHC/common_new/preprocess/fact_selected_cases.txt\"\n",
    "case_advs_path = \"/home/workboots/Datasets/DHC/common_new/targets/case_advs.json\""
   ]
  },
  {
   "cell_type": "code",
   "execution_count": 3,
   "id": "62d786fa-1c2e-4e46-95e5-3bcc6ed16300",
   "metadata": {},
   "outputs": [],
   "source": [
    "with open(datapoints_path, 'r') as f:\n",
    "    cases = f.readlines()\n",
    "cases = list(filter(None, map(lambda x: x.strip(\"\\n\"), cases)))"
   ]
  },
  {
   "cell_type": "code",
   "execution_count": 4,
   "id": "4a0f6ae2-e48b-4cd1-bc01-990b59b82391",
   "metadata": {},
   "outputs": [
    {
     "data": {
      "text/plain": [
       "22241"
      ]
     },
     "execution_count": 4,
     "metadata": {},
     "output_type": "execute_result"
    }
   ],
   "source": [
    "len(cases)"
   ]
  },
  {
   "cell_type": "code",
   "execution_count": 5,
   "id": "e3f6e719-ac43-4233-ba61-e7a9537bb120",
   "metadata": {},
   "outputs": [],
   "source": [
    "with open(case_advs_path, 'r') as f:\n",
    "    case_advs = json.load(f)"
   ]
  },
  {
   "cell_type": "code",
   "execution_count": 6,
   "id": "da88c652-f466-42b8-8913-f69b2fb9d975",
   "metadata": {},
   "outputs": [
    {
     "data": {
      "text/plain": [
       "23312"
      ]
     },
     "execution_count": 6,
     "metadata": {},
     "output_type": "execute_result"
    }
   ],
   "source": [
    "len(case_advs)"
   ]
  },
  {
   "cell_type": "code",
   "execution_count": 7,
   "id": "687fe5db-3879-489a-8a82-8779228e5952",
   "metadata": {},
   "outputs": [],
   "source": [
    "cases = list(set(cases).intersection(set(case_advs)))"
   ]
  },
  {
   "cell_type": "code",
   "execution_count": 8,
   "id": "02ba8230-92c3-4eb3-a1a5-3fdfab890800",
   "metadata": {},
   "outputs": [
    {
     "data": {
      "text/plain": [
       "20438"
      ]
     },
     "execution_count": 8,
     "metadata": {},
     "output_type": "execute_result"
    }
   ],
   "source": [
    "len(cases)"
   ]
  },
  {
   "cell_type": "code",
   "execution_count": 9,
   "id": "a0073e7e-4b3a-4b8c-b5f0-a0a56d048285",
   "metadata": {},
   "outputs": [],
   "source": [
    "advs = list(set(chain.from_iterable(case_advs.values())))"
   ]
  },
  {
   "cell_type": "code",
   "execution_count": 10,
   "id": "6284e7a5-8780-4c4a-a9e0-2d508192998b",
   "metadata": {},
   "outputs": [],
   "source": [
    "mlb = MultiLabelBinarizer()"
   ]
  },
  {
   "cell_type": "code",
   "execution_count": 11,
   "id": "bb54813a-34c4-41d8-a961-35a016cfa417",
   "metadata": {},
   "outputs": [],
   "source": [
    "case_targets = [set(v) for k, v in case_advs.items() if k in cases]"
   ]
  },
  {
   "cell_type": "code",
   "execution_count": 12,
   "id": "47be0b57-1e52-4172-9780-6650059ad704",
   "metadata": {},
   "outputs": [
    {
     "data": {
      "text/plain": [
       "20438"
      ]
     },
     "execution_count": 12,
     "metadata": {},
     "output_type": "execute_result"
    }
   ],
   "source": [
    "len(case_targets)"
   ]
  },
  {
   "cell_type": "code",
   "execution_count": 13,
   "id": "cc6f02d9-a2e0-4edd-bdea-60f708b29d6e",
   "metadata": {},
   "outputs": [],
   "source": [
    "y_binarized = mlb.fit_transform(case_targets)"
   ]
  },
  {
   "cell_type": "code",
   "execution_count": 14,
   "id": "04465b91-436b-45b9-98af-825951a31f1d",
   "metadata": {},
   "outputs": [
    {
     "data": {
      "text/plain": [
       "20438"
      ]
     },
     "execution_count": 14,
     "metadata": {},
     "output_type": "execute_result"
    }
   ],
   "source": [
    "len(y_binarized)"
   ]
  },
  {
   "cell_type": "code",
   "execution_count": 15,
   "id": "e0dd68bb-f6a8-4840-a796-5f08c46c5ed5",
   "metadata": {},
   "outputs": [
    {
     "data": {
      "text/plain": [
       "(20438, 20304)"
      ]
     },
     "execution_count": 15,
     "metadata": {},
     "output_type": "execute_result"
    }
   ],
   "source": [
    "y_binarized.shape"
   ]
  },
  {
   "cell_type": "code",
   "execution_count": 16,
   "id": "0cc0a483-a631-4400-8ec3-b1abc1955e53",
   "metadata": {},
   "outputs": [
    {
     "data": {
      "text/plain": [
       "numpy.ndarray"
      ]
     },
     "execution_count": 16,
     "metadata": {},
     "output_type": "execute_result"
    }
   ],
   "source": [
    "type(y_binarized)"
   ]
  },
  {
   "cell_type": "code",
   "execution_count": 17,
   "id": "97a76639-793b-46d4-aa1b-7edf6525f4a2",
   "metadata": {},
   "outputs": [
    {
     "data": {
      "text/plain": [
       "array(['AAKhan', 'AAVetal', 'AAcharji', ..., 'ZubinSingh',\n",
       "       'ZulfiquarMemon', 'ZuvindSingh'], dtype=object)"
      ]
     },
     "execution_count": 17,
     "metadata": {},
     "output_type": "execute_result"
    }
   ],
   "source": [
    "mlb.classes_"
   ]
  },
  {
   "cell_type": "code",
   "execution_count": 18,
   "id": "f8ade934-8d72-4ce7-82d4-e069afebf434",
   "metadata": {},
   "outputs": [
    {
     "data": {
      "text/plain": [
       "list"
      ]
     },
     "execution_count": 18,
     "metadata": {},
     "output_type": "execute_result"
    }
   ],
   "source": [
    "type(cases)"
   ]
  },
  {
   "cell_type": "code",
   "execution_count": 23,
   "id": "83f647cb-476f-4d91-b2d8-5668337a4c70",
   "metadata": {},
   "outputs": [
    {
     "data": {
      "text/plain": [
       "2"
      ]
     },
     "execution_count": 23,
     "metadata": {},
     "output_type": "execute_result"
    }
   ],
   "source": [
    "y_binarized[0]"
   ]
  },
  {
   "cell_type": "code",
   "execution_count": 17,
   "id": "e3f01146-e405-4df6-a4bd-b4a6bd96d2dc",
   "metadata": {},
   "outputs": [
    {
     "ename": "KeyboardInterrupt",
     "evalue": "",
     "output_type": "error",
     "traceback": [
      "\u001b[0;31m---------------------------------------------------------------------------\u001b[0m",
      "\u001b[0;31mKeyboardInterrupt\u001b[0m                         Traceback (most recent call last)",
      "Cell \u001b[0;32mIn [17], line 1\u001b[0m\n\u001b[0;32m----> 1\u001b[0m X_train, y_train, X_test, y_test \u001b[38;5;241m=\u001b[39m \u001b[43miterative_train_test_split\u001b[49m\u001b[43m(\u001b[49m\u001b[43mcases\u001b[49m\u001b[43m,\u001b[49m\u001b[43m \u001b[49m\u001b[43my_binarized\u001b[49m\u001b[43m,\u001b[49m\u001b[43m \u001b[49m\u001b[43mtest_size\u001b[49m\u001b[38;5;241;43m=\u001b[39;49m\u001b[38;5;241;43m0.2\u001b[39;49m\u001b[43m)\u001b[49m\n",
      "File \u001b[0;32m~/VirtualEnvs/aiml/lib/python3.10/site-packages/skmultilearn/model_selection/iterative_stratification.py:93\u001b[0m, in \u001b[0;36miterative_train_test_split\u001b[0;34m(X, y, test_size)\u001b[0m\n\u001b[1;32m     79\u001b[0m \u001b[38;5;124;03m\"\"\"Iteratively stratified train/test split\u001b[39;00m\n\u001b[1;32m     80\u001b[0m \n\u001b[1;32m     81\u001b[0m \u001b[38;5;124;03mParameters\u001b[39;00m\n\u001b[0;32m   (...)\u001b[0m\n\u001b[1;32m     89\u001b[0m \u001b[38;5;124;03m    stratified division into train/test split\u001b[39;00m\n\u001b[1;32m     90\u001b[0m \u001b[38;5;124;03m\"\"\"\u001b[39;00m\n\u001b[1;32m     92\u001b[0m stratifier \u001b[38;5;241m=\u001b[39m IterativeStratification(n_splits\u001b[38;5;241m=\u001b[39m\u001b[38;5;241m2\u001b[39m, order\u001b[38;5;241m=\u001b[39m\u001b[38;5;241m2\u001b[39m, sample_distribution_per_fold\u001b[38;5;241m=\u001b[39m[test_size, \u001b[38;5;241m1.0\u001b[39m\u001b[38;5;241m-\u001b[39mtest_size])\n\u001b[0;32m---> 93\u001b[0m train_indexes, test_indexes \u001b[38;5;241m=\u001b[39m \u001b[38;5;28;43mnext\u001b[39;49m\u001b[43m(\u001b[49m\u001b[43mstratifier\u001b[49m\u001b[38;5;241;43m.\u001b[39;49m\u001b[43msplit\u001b[49m\u001b[43m(\u001b[49m\u001b[43mX\u001b[49m\u001b[43m,\u001b[49m\u001b[43m \u001b[49m\u001b[43my\u001b[49m\u001b[43m)\u001b[49m\u001b[43m)\u001b[49m\n\u001b[1;32m     95\u001b[0m X_train, y_train \u001b[38;5;241m=\u001b[39m X[train_indexes, :], y[train_indexes, :]\n\u001b[1;32m     96\u001b[0m X_test, y_test \u001b[38;5;241m=\u001b[39m X[test_indexes, :], y[test_indexes, :]\n",
      "File \u001b[0;32m~/VirtualEnvs/aiml/lib/python3.10/site-packages/sklearn/model_selection/_split.py:340\u001b[0m, in \u001b[0;36m_BaseKFold.split\u001b[0;34m(self, X, y, groups)\u001b[0m\n\u001b[1;32m    332\u001b[0m \u001b[38;5;28;01mif\u001b[39;00m \u001b[38;5;28mself\u001b[39m\u001b[38;5;241m.\u001b[39mn_splits \u001b[38;5;241m>\u001b[39m n_samples:\n\u001b[1;32m    333\u001b[0m     \u001b[38;5;28;01mraise\u001b[39;00m \u001b[38;5;167;01mValueError\u001b[39;00m(\n\u001b[1;32m    334\u001b[0m         (\n\u001b[1;32m    335\u001b[0m             \u001b[38;5;124m\"\u001b[39m\u001b[38;5;124mCannot have number of splits n_splits=\u001b[39m\u001b[38;5;132;01m{0}\u001b[39;00m\u001b[38;5;124m greater\u001b[39m\u001b[38;5;124m\"\u001b[39m\n\u001b[1;32m    336\u001b[0m             \u001b[38;5;124m\"\u001b[39m\u001b[38;5;124m than the number of samples: n_samples=\u001b[39m\u001b[38;5;132;01m{1}\u001b[39;00m\u001b[38;5;124m.\u001b[39m\u001b[38;5;124m\"\u001b[39m\n\u001b[1;32m    337\u001b[0m         )\u001b[38;5;241m.\u001b[39mformat(\u001b[38;5;28mself\u001b[39m\u001b[38;5;241m.\u001b[39mn_splits, n_samples)\n\u001b[1;32m    338\u001b[0m     )\n\u001b[0;32m--> 340\u001b[0m \u001b[38;5;28;01mfor\u001b[39;00m train, test \u001b[38;5;129;01min\u001b[39;00m \u001b[38;5;28msuper\u001b[39m()\u001b[38;5;241m.\u001b[39msplit(X, y, groups):\n\u001b[1;32m    341\u001b[0m     \u001b[38;5;28;01myield\u001b[39;00m train, test\n",
      "File \u001b[0;32m~/VirtualEnvs/aiml/lib/python3.10/site-packages/sklearn/model_selection/_split.py:86\u001b[0m, in \u001b[0;36mBaseCrossValidator.split\u001b[0;34m(self, X, y, groups)\u001b[0m\n\u001b[1;32m     84\u001b[0m X, y, groups \u001b[38;5;241m=\u001b[39m indexable(X, y, groups)\n\u001b[1;32m     85\u001b[0m indices \u001b[38;5;241m=\u001b[39m np\u001b[38;5;241m.\u001b[39marange(_num_samples(X))\n\u001b[0;32m---> 86\u001b[0m \u001b[38;5;28;01mfor\u001b[39;00m test_index \u001b[38;5;129;01min\u001b[39;00m \u001b[38;5;28mself\u001b[39m\u001b[38;5;241m.\u001b[39m_iter_test_masks(X, y, groups):\n\u001b[1;32m     87\u001b[0m     train_index \u001b[38;5;241m=\u001b[39m indices[np\u001b[38;5;241m.\u001b[39mlogical_not(test_index)]\n\u001b[1;32m     88\u001b[0m     test_index \u001b[38;5;241m=\u001b[39m indices[test_index]\n",
      "File \u001b[0;32m~/VirtualEnvs/aiml/lib/python3.10/site-packages/sklearn/model_selection/_split.py:98\u001b[0m, in \u001b[0;36mBaseCrossValidator._iter_test_masks\u001b[0;34m(self, X, y, groups)\u001b[0m\n\u001b[1;32m     93\u001b[0m \u001b[38;5;28;01mdef\u001b[39;00m \u001b[38;5;21m_iter_test_masks\u001b[39m(\u001b[38;5;28mself\u001b[39m, X\u001b[38;5;241m=\u001b[39m\u001b[38;5;28;01mNone\u001b[39;00m, y\u001b[38;5;241m=\u001b[39m\u001b[38;5;28;01mNone\u001b[39;00m, groups\u001b[38;5;241m=\u001b[39m\u001b[38;5;28;01mNone\u001b[39;00m):\n\u001b[1;32m     94\u001b[0m     \u001b[38;5;124;03m\"\"\"Generates boolean masks corresponding to test sets.\u001b[39;00m\n\u001b[1;32m     95\u001b[0m \n\u001b[1;32m     96\u001b[0m \u001b[38;5;124;03m    By default, delegates to _iter_test_indices(X, y, groups)\u001b[39;00m\n\u001b[1;32m     97\u001b[0m \u001b[38;5;124;03m    \"\"\"\u001b[39;00m\n\u001b[0;32m---> 98\u001b[0m     \u001b[38;5;28;01mfor\u001b[39;00m test_index \u001b[38;5;129;01min\u001b[39;00m \u001b[38;5;28mself\u001b[39m\u001b[38;5;241m.\u001b[39m_iter_test_indices(X, y, groups):\n\u001b[1;32m     99\u001b[0m         test_mask \u001b[38;5;241m=\u001b[39m np\u001b[38;5;241m.\u001b[39mzeros(_num_samples(X), dtype\u001b[38;5;241m=\u001b[39m\u001b[38;5;28mbool\u001b[39m)\n\u001b[1;32m    100\u001b[0m         test_mask[test_index] \u001b[38;5;241m=\u001b[39m \u001b[38;5;28;01mTrue\u001b[39;00m\n",
      "File \u001b[0;32m~/VirtualEnvs/aiml/lib/python3.10/site-packages/skmultilearn/model_selection/iterative_stratification.py:343\u001b[0m, in \u001b[0;36mIterativeStratification._iter_test_indices\u001b[0;34m(self, X, y, groups)\u001b[0m\n\u001b[1;32m    338\u001b[0m     check_random_state(\u001b[38;5;28mself\u001b[39m\u001b[38;5;241m.\u001b[39mrandom_state)\n\u001b[1;32m    340\u001b[0m rows, rows_used, all_combinations, per_row_combinations, samples_with_combination, folds \u001b[38;5;241m=\u001b[39m \\\n\u001b[1;32m    341\u001b[0m     \u001b[38;5;28mself\u001b[39m\u001b[38;5;241m.\u001b[39m_prepare_stratification(y)\n\u001b[0;32m--> 343\u001b[0m \u001b[38;5;28;43mself\u001b[39;49m\u001b[38;5;241;43m.\u001b[39;49m\u001b[43m_distribute_positive_evidence\u001b[49m\u001b[43m(\u001b[49m\u001b[43mrows_used\u001b[49m\u001b[43m,\u001b[49m\u001b[43m \u001b[49m\u001b[43mfolds\u001b[49m\u001b[43m,\u001b[49m\u001b[43m \u001b[49m\u001b[43msamples_with_combination\u001b[49m\u001b[43m,\u001b[49m\u001b[43m \u001b[49m\u001b[43mper_row_combinations\u001b[49m\u001b[43m)\u001b[49m\n\u001b[1;32m    344\u001b[0m \u001b[38;5;28mself\u001b[39m\u001b[38;5;241m.\u001b[39m_distribute_negative_evidence(rows_used, folds)\n\u001b[1;32m    346\u001b[0m \u001b[38;5;28;01mfor\u001b[39;00m fold \u001b[38;5;129;01min\u001b[39;00m folds:\n",
      "File \u001b[0;32m~/VirtualEnvs/aiml/lib/python3.10/site-packages/skmultilearn/model_selection/iterative_stratification.py:295\u001b[0m, in \u001b[0;36mIterativeStratification._distribute_positive_evidence\u001b[0;34m(self, rows_used, folds, samples_with_combination, per_row_combinations)\u001b[0m\n\u001b[1;32m    292\u001b[0m         \u001b[38;5;28mself\u001b[39m\u001b[38;5;241m.\u001b[39mdesired_samples_per_combination_per_fold[i][m] \u001b[38;5;241m-\u001b[39m\u001b[38;5;241m=\u001b[39m \u001b[38;5;241m1\u001b[39m\n\u001b[1;32m    293\u001b[0m     \u001b[38;5;28mself\u001b[39m\u001b[38;5;241m.\u001b[39mdesired_samples_per_fold[m] \u001b[38;5;241m-\u001b[39m\u001b[38;5;241m=\u001b[39m \u001b[38;5;241m1\u001b[39m\n\u001b[0;32m--> 295\u001b[0m l \u001b[38;5;241m=\u001b[39m \u001b[43m_get_most_desired_combination\u001b[49m\u001b[43m(\u001b[49m\u001b[43msamples_with_combination\u001b[49m\u001b[43m)\u001b[49m\n",
      "File \u001b[0;32m~/VirtualEnvs/aiml/lib/python3.10/site-packages/skmultilearn/model_selection/iterative_stratification.py:144\u001b[0m, in \u001b[0;36m_get_most_desired_combination\u001b[0;34m(samples_with_combination)\u001b[0m\n\u001b[1;32m    141\u001b[0m best_number_of_combinations, best_support_size \u001b[38;5;241m=\u001b[39m \u001b[38;5;28;01mNone\u001b[39;00m, \u001b[38;5;28;01mNone\u001b[39;00m\n\u001b[1;32m    143\u001b[0m \u001b[38;5;28;01mfor\u001b[39;00m combination, evidence \u001b[38;5;129;01min\u001b[39;00m samples_with_combination\u001b[38;5;241m.\u001b[39mitems():\n\u001b[0;32m--> 144\u001b[0m     number_of_combinations, support_size \u001b[38;5;241m=\u001b[39m (\u001b[38;5;28mlen\u001b[39m(\u001b[38;5;28;43mset\u001b[39;49m\u001b[43m(\u001b[49m\u001b[43mcombination\u001b[49m\u001b[43m)\u001b[49m), \u001b[38;5;28mlen\u001b[39m(evidence))\n\u001b[1;32m    145\u001b[0m     \u001b[38;5;28;01mif\u001b[39;00m support_size \u001b[38;5;241m==\u001b[39m \u001b[38;5;241m0\u001b[39m:\n\u001b[1;32m    146\u001b[0m         \u001b[38;5;28;01mcontinue\u001b[39;00m\n",
      "\u001b[0;31mKeyboardInterrupt\u001b[0m: "
     ]
    }
   ],
   "source": [
    "X_train, y_train, X_test, y_test = iterative_train_test_split(cases, y_binarized, test_size=0.2)"
   ]
  },
  {
   "cell_type": "code",
   "execution_count": 49,
   "id": "ab59dc05-6c9d-424c-8a70-a495428a3bb6",
   "metadata": {},
   "outputs": [
    {
     "data": {
      "text/plain": [
       "22241"
      ]
     },
     "execution_count": 49,
     "metadata": {},
     "output_type": "execute_result"
    }
   ],
   "source": [
    "len(cases)"
   ]
  },
  {
   "cell_type": "code",
   "execution_count": null,
   "id": "c84db69a-3e28-45ba-9c7b-6faf85e4ab61",
   "metadata": {},
   "outputs": [],
   "source": []
  }
 ],
 "metadata": {
  "kernelspec": {
   "display_name": "Python 3 (ipykernel)",
   "language": "python",
   "name": "python3"
  },
  "language_info": {
   "codemirror_mode": {
    "name": "ipython",
    "version": 3
   },
   "file_extension": ".py",
   "mimetype": "text/x-python",
   "name": "python",
   "nbconvert_exporter": "python",
   "pygments_lexer": "ipython3",
   "version": "3.10.6"
  }
 },
 "nbformat": 4,
 "nbformat_minor": 5
}
